{
 "cells": [
  {
   "cell_type": "code",
   "execution_count": 3,
   "id": "4eace442",
   "metadata": {},
   "outputs": [],
   "source": [
    "f=open(\"E:\\Saitf.txt\",\"w\")\n",
    "f.write(\"Wake up early\\n\")\n",
    "f.write(\"Read daily\\n\")\n",
    "f.write(\"Pray to god\\n\")\n",
    "f.close()\n"
   ]
  },
  {
   "cell_type": "code",
   "execution_count": 4,
   "id": "ea426e21",
   "metadata": {},
   "outputs": [
    {
     "name": "stdout",
     "output_type": "stream",
     "text": [
      "Wake up early\n",
      "\n",
      "Read daily\n",
      "\n",
      "Pray to god\n",
      "\n"
     ]
    }
   ],
   "source": [
    "a=open(\"E:\\Saitf.txt\",\"r\")\n",
    "print(a.readline())\n",
    "print(a.readline())\n",
    "print(a.readline())\n",
    "a.close()"
   ]
  },
  {
   "cell_type": "code",
   "execution_count": 5,
   "id": "f735e9af",
   "metadata": {},
   "outputs": [
    {
     "name": "stdout",
     "output_type": "stream",
     "text": [
      "Wake up early\n",
      "Read daily\n",
      "Pray to god\n",
      "Help others\n",
      "Be smart\n",
      "\n"
     ]
    }
   ],
   "source": [
    "b=open(\"E:\\Saitf.txt\",\"a\")\n",
    "b.write(\"Help others\\n\")\n",
    "b.write(\"Be smart\\n\")\n",
    "b.close()\n",
    "c=open(\"E:\\Saitf.txt\",\"r\")\n",
    "print(c.read())\n",
    "c.close()"
   ]
  },
  {
   "cell_type": "code",
   "execution_count": 9,
   "id": "384eeb73",
   "metadata": {},
   "outputs": [
    {
     "name": "stdout",
     "output_type": "stream",
     "text": [
      "['Wake up early\\n', 'Read daily\\n', 'Pray to god\\n', 'Help others\\n', 'Be smart\\n']\n"
     ]
    }
   ],
   "source": [
    "with open(\"E:\\Saitf.txt\",\"r\")as file:\n",
    "    lines=file.readlines()\n",
    "    print(lines)\n",
    "   "
   ]
  },
  {
   "cell_type": "code",
   "execution_count": 11,
   "id": "8d31e373",
   "metadata": {},
   "outputs": [
    {
     "name": "stdout",
     "output_type": "stream",
     "text": [
      "london\n"
     ]
    }
   ],
   "source": [
    "import json\n",
    "x='{\"name\":\"sai\",\"age\":20,\"city\":\"london\"}'\n",
    "y=json.loads(x)\n",
    "print(y[\"city\"])"
   ]
  },
  {
   "cell_type": "code",
   "execution_count": 12,
   "id": "5c45213c",
   "metadata": {},
   "outputs": [
    {
     "name": "stdout",
     "output_type": "stream",
     "text": [
      "\"{\\\"name\\\":\\\"sai\\\",\\\"age\\\":20,\\\"city\\\":\\\"london\\\"}\"\n"
     ]
    }
   ],
   "source": [
    "import json\n",
    "x='{\"name\":\"sai\",\"age\":20,\"city\":\"london\"}'\n",
    "y=json.dumps(x)\n",
    "print(y)"
   ]
  },
  {
   "cell_type": "code",
   "execution_count": null,
   "id": "b7f17b1d",
   "metadata": {},
   "outputs": [],
   "source": []
  }
 ],
 "metadata": {
  "kernelspec": {
   "display_name": "Python 3 (ipykernel)",
   "language": "python",
   "name": "python3"
  },
  "language_info": {
   "codemirror_mode": {
    "name": "ipython",
    "version": 3
   },
   "file_extension": ".py",
   "mimetype": "text/x-python",
   "name": "python",
   "nbconvert_exporter": "python",
   "pygments_lexer": "ipython3",
   "version": "3.11.3"
  }
 },
 "nbformat": 4,
 "nbformat_minor": 5
}
