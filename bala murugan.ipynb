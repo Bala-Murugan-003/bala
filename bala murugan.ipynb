{
 "cells": [
  {
   "cell_type": "code",
   "execution_count": 18,
   "id": "8b4aeb7a",
   "metadata": {},
   "outputs": [
    {
     "name": "stdout",
     "output_type": "stream",
     "text": [
      "one dimentional array: [10 20 30 40 50]\n"
     ]
    }
   ],
   "source": [
    "import numpy as np\n",
    "a=np.array([10,20,30,40,50])\n",
    "print(\"one dimentional array:\",a)\n"
   ]
  },
  {
   "cell_type": "code",
   "execution_count": 19,
   "id": "854c929a",
   "metadata": {},
   "outputs": [
    {
     "name": "stdout",
     "output_type": "stream",
     "text": [
      "two dimentional array: [[ 10  20  30  40  50]\n",
      " [ 60  70  80  90 100]]\n"
     ]
    }
   ],
   "source": [
    "import numpy as np\n",
    "a=np.array([[10,20,30,40,50],[60,70,80,90,100]])\n",
    "print(\"two dimentional array:\",a)\n",
    "\n"
   ]
  },
  {
   "cell_type": "code",
   "execution_count": 20,
   "id": "d94c81f1",
   "metadata": {},
   "outputs": [
    {
     "name": "stdout",
     "output_type": "stream",
     "text": [
      "\n",
      " Array with all zeros:\n",
      " [[0. 0. 0. 0. 0.]\n",
      " [0. 0. 0. 0. 0.]\n",
      " [0. 0. 0. 0. 0.]]\n"
     ]
    }
   ],
   "source": [
    "import numpy as np\n",
    "z=np.zeros((3,5))\n",
    "print(\"\\n Array with all zeros:\\n\",z)"
   ]
  },
  {
   "cell_type": "code",
   "execution_count": 23,
   "id": "36736645",
   "metadata": {},
   "outputs": [
    {
     "name": "stdout",
     "output_type": "stream",
     "text": [
      "\n",
      " array with random number:\n",
      " [[0.98626942 0.91195116 0.50879205 0.4027238 ]\n",
      " [0.34874639 0.93275783 0.35905127 0.05845142]\n",
      " [0.66973569 0.69768785 0.53549384 0.25608556]\n",
      " [0.81178547 0.54606338 0.19085999 0.71871577]]\n"
     ]
    }
   ],
   "source": [
    "import numpy as np\n",
    "b=np.random.random((4,4))\n",
    "print(\"\\n array with random number:\\n\",b)"
   ]
  },
  {
   "cell_type": "code",
   "execution_count": 24,
   "id": "3ab95572",
   "metadata": {},
   "outputs": [
    {
     "name": "stdout",
     "output_type": "stream",
     "text": [
      "\n",
      " Range value:\n",
      " [0 1 2 3 4 5 6 7 8 9]\n"
     ]
    }
   ],
   "source": [
    "import numpy as np\n",
    "e=np.arange(0,10,1)\n",
    "print(\"\\n Range value:\\n\",e)"
   ]
  },
  {
   "cell_type": "code",
   "execution_count": null,
   "id": "13cf8752",
   "metadata": {},
   "outputs": [],
   "source": [
    "import numpy as np\n",
    "arr=np.array([[1,2,3,4],[5,2,4,2],[1,2,0,1]])\n",
    "newarr=arr.reshape((4,3))\n",
    "print(\"\\n original array:\\n\",arr)\n",
    "print(\"\\n Reshaped array[4,3]:\\n\",newarr)"
   ]
  },
  {
   "cell_type": "code",
   "execution_count": null,
   "id": "1271390c",
   "metadata": {},
   "outputs": [],
   "source": []
  },
  {
   "cell_type": "code",
   "execution_count": null,
   "id": "01777393",
   "metadata": {},
   "outputs": [],
   "source": []
  },
  {
   "cell_type": "code",
   "execution_count": 9,
   "id": "1f603812",
   "metadata": {},
   "outputs": [],
   "source": []
  },
  {
   "cell_type": "code",
   "execution_count": null,
   "id": "e0f7e8c4",
   "metadata": {},
   "outputs": [],
   "source": [
    "\n",
    "\n"
   ]
  },
  {
   "cell_type": "code",
   "execution_count": 11,
   "id": "f1565d17",
   "metadata": {},
   "outputs": [
    {
     "name": "stdout",
     "output_type": "stream",
     "text": [
      "\n",
      " Array with all zeros:\n",
      " [[0. 0. 0.]\n",
      " [0. 0. 0.]\n",
      " [0. 0. 0.]\n",
      " [0. 0. 0.]\n",
      " [0. 0. 0.]]\n",
      "\n",
      " Array with random number:\n",
      " [[0.44138106 0.6414215  0.22336163]\n",
      " [0.10992391 0.04101447 0.39534494]\n",
      " [0.69709767 0.33198091 0.66722815]\n",
      " [0.90423531 0.41723442 0.51723535]\n",
      " [0.85898027 0.02430683 0.33980247]]\n",
      "\n",
      " Range Value:\n",
      " [0 1 2 3 4 5 6 7 8 9]\n",
      "\n",
      " original array:\n",
      " [[7 8 6 8 8]\n",
      " [3 9 0 8 7]\n",
      " [1 2 3 1 2]]\n",
      "\n",
      " reshaped array[5,3]:\n",
      " [[7 8 6]\n",
      " [8 8 3]\n",
      " [9 0 8]\n",
      " [7 1 2]\n",
      " [3 1 2]]\n"
     ]
    }
   ],
   "source": [
    "import numpy as np\n",
    "z=np.zeros((5,3))\n",
    "a=np.random.random((5,3))\n",
    "s=np.arange(0,10,1)\n",
    "arr=np.array([[7,8,6,8,8],[3,9,0,8,7],[1,2,3,1,2]])\n",
    "newarr=arr.reshape((5,3))\n",
    "print(\"\\n Array with all zeros:\\n\",z)\n",
    "print(\"\\n Array with random number:\\n\",a)\n",
    "print(\"\\n Range Value:\\n\",s)\n",
    "print(\"\\n original array:\\n\",arr)\n",
    "print(\"\\n reshaped array[5,3]:\\n\",newarr)\n",
    "\n"
   ]
  },
  {
   "cell_type": "code",
   "execution_count": 12,
   "id": "a5b8fe9b",
   "metadata": {},
   "outputs": [
    {
     "name": "stdout",
     "output_type": "stream",
     "text": [
      "Flattened array:\n",
      " [7 8 6 8 8 3 9 0 8 7 1 2 3 1 2]\n"
     ]
    }
   ],
   "source": [
    "flat=arr.flatten()\n",
    "print(\"Flattened array:\\n\",flat)"
   ]
  },
  {
   "cell_type": "code",
   "execution_count": 13,
   "id": "a4e97175",
   "metadata": {},
   "outputs": [
    {
     "name": "stdout",
     "output_type": "stream",
     "text": [
      "\n",
      " No of dimensions: 2\n"
     ]
    }
   ],
   "source": [
    "print(\"\\n No of dimensions:\",arr.ndim)\n"
   ]
  },
  {
   "cell_type": "code",
   "execution_count": 14,
   "id": "fb74cc7b",
   "metadata": {},
   "outputs": [
    {
     "name": "stdout",
     "output_type": "stream",
     "text": [
      "\n",
      " shape of array: (3, 5)\n"
     ]
    }
   ],
   "source": [
    "print(\"\\n shape of array:\",arr.shape)"
   ]
  },
  {
   "cell_type": "code",
   "execution_count": 15,
   "id": "93414776",
   "metadata": {},
   "outputs": [
    {
     "name": "stdout",
     "output_type": "stream",
     "text": [
      "\n",
      " Array element type: int32\n"
     ]
    }
   ],
   "source": [
    "print(\"\\n Array element type:\",arr.dtype)"
   ]
  },
  {
   "cell_type": "code",
   "execution_count": 17,
   "id": "be82c220",
   "metadata": {},
   "outputs": [
    {
     "name": "stdout",
     "output_type": "stream",
     "text": [
      "\n",
      " Covert array element:\n",
      " [[7. 8. 6. 8. 8.]\n",
      " [3. 9. 0. 8. 7.]\n",
      " [1. 2. 3. 1. 2.]]\n",
      "coverted array: float32\n"
     ]
    }
   ],
   "source": [
    "newtype=arr.astype('f')\n",
    "print(\"\\n Covert array element:\\n\",newtype)\n",
    "print(\"coverted array:\",newtype.dtype)"
   ]
  },
  {
   "cell_type": "code",
   "execution_count": 22,
   "id": "1d9f69e1",
   "metadata": {},
   "outputs": [
    {
     "name": "stdout",
     "output_type": "stream",
     "text": [
      "\n",
      " size of array:\n",
      " 15\n"
     ]
    }
   ],
   "source": [
    "size=len(arr)\n",
    "print(\"\\n size of array:\\n\",arr.size)"
   ]
  },
  {
   "cell_type": "code",
   "execution_count": null,
   "id": "348355a1",
   "metadata": {},
   "outputs": [],
   "source": []
  }
 ],
 "metadata": {
  "kernelspec": {
   "display_name": "Python 3 (ipykernel)",
   "language": "python",
   "name": "python3"
  },
  "language_info": {
   "codemirror_mode": {
    "name": "ipython",
    "version": 3
   },
   "file_extension": ".py",
   "mimetype": "text/x-python",
   "name": "python",
   "nbconvert_exporter": "python",
   "pygments_lexer": "ipython3",
   "version": "3.11.3"
  }
 },
 "nbformat": 4,
 "nbformat_minor": 5
}
