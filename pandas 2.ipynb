{
 "cells": [
  {
   "cell_type": "code",
   "execution_count": 7,
   "id": "fd405f74",
   "metadata": {},
   "outputs": [
    {
     "name": "stdout",
     "output_type": "stream",
     "text": [
      "   x  y  z\n",
      "0  2  4  6\n",
      "1  1  3  5\n",
      "2  5  8  7\n",
      "     x  y  z\n",
      "min  1  3  5\n",
      "max  5  8  7\n",
      "       0\n",
      "poo  sai\n",
      "70    88\n"
     ]
    }
   ],
   "source": [
    "import pandas as pd\n",
    "import numpy as np\n",
    "info=pd.DataFrame([[2,4,6],[1,3,5],[5,8,7]],columns=['x','y','z'])\n",
    "print(info)\n",
    "print(info.agg(['min','max']))\n",
    "d2=pd.DataFrame(['sai',88],['poo',70])\n",
    "column=(['Emp','ID'])\n",
    "print(d2)"
   ]
  },
  {
   "cell_type": "code",
   "execution_count": 8,
   "id": "ecf38d30",
   "metadata": {},
   "outputs": [
    {
     "name": "stdout",
     "output_type": "stream",
     "text": [
      "       0  Age\n",
      "poo  sai   20\n",
      "70    88   18\n",
      "       0  Age   sex\n",
      "poo  sai   20  Male\n",
      "70    88   18  Male\n"
     ]
    }
   ],
   "source": [
    "#Adding new column\n",
    "d2['Age']=[20,18]\n",
    "print(d2)\n",
    "d=d2.assign(sex=['Male','Male'])\n",
    "print(d)"
   ]
  },
  {
   "cell_type": "code",
   "execution_count": 15,
   "id": "9d8e7ffc",
   "metadata": {},
   "outputs": [
    {
     "name": "stdout",
     "output_type": "stream",
     "text": [
      "       col3      col4\n",
      "3 -1.222515  0.681031\n",
      "2 -1.461159  0.008594\n",
      "0 -0.074780 -1.319856\n",
      "4  0.435234 -0.526311\n",
      "1 -1.759072 -0.655946\n"
     ]
    }
   ],
   "source": [
    "#Sorting\n",
    "info=pd.DataFrame(np.random.randn(5,2),index=[3,2,0,4,1],columns=['col3','col4'])\n",
    "print(info)"
   ]
  },
  {
   "cell_type": "code",
   "execution_count": 16,
   "id": "e5f18aa7",
   "metadata": {},
   "outputs": [
    {
     "name": "stdout",
     "output_type": "stream",
     "text": [
      "       col3      col4\n",
      "0 -0.074780 -1.319856\n",
      "1 -1.759072 -0.655946\n",
      "2 -1.461159  0.008594\n",
      "3 -1.222515  0.681031\n",
      "4  0.435234 -0.526311\n"
     ]
    }
   ],
   "source": [
    "info2=info.sort_index()\n",
    "print(info2)"
   ]
  },
  {
   "cell_type": "code",
   "execution_count": 19,
   "id": "4305a3a6",
   "metadata": {},
   "outputs": [
    {
     "name": "stdout",
     "output_type": "stream",
     "text": [
      "       col3      col4\n",
      "1 -1.759072 -0.655946\n",
      "2 -1.461159  0.008594\n",
      "3 -1.222515  0.681031\n",
      "0 -0.074780 -1.319856\n",
      "4  0.435234 -0.526311\n"
     ]
    }
   ],
   "source": [
    "info3=info.sort_values(by='col3')\n",
    "print(info3)    "
   ]
  },
  {
   "cell_type": "code",
   "execution_count": 25,
   "id": "c31e69d2",
   "metadata": {},
   "outputs": [
    {
     "name": "stdout",
     "output_type": "stream",
     "text": [
      "   ID  Name   sub\n",
      "0   1   Sai  Sub1\n",
      "1   2  Bala  sub2\n",
      "2   3   Kar  sub3\n"
     ]
    }
   ],
   "source": [
    "left=pd.DataFrame({'ID':[1,2,3],'Name':['Sai','Bala','Kar'],'Sub':['Sub1','sub2','sub3']})\n",
    "print(left)"
   ]
  },
  {
   "cell_type": "code",
   "execution_count": 30,
   "id": "4227833d",
   "metadata": {},
   "outputs": [
    {
     "name": "stdout",
     "output_type": "stream",
     "text": [
      "   ID   Name   Sub\n",
      "0   1  tyson  sub4\n",
      "1   2    max  sub5\n",
      "2   3  harry  sub6\n"
     ]
    }
   ],
   "source": [
    "right=pd.DataFrame({'ID':[1,2,3],'Name':['tyson','max','harry'],'Sub':['sub4','sub5','sub6']})\n",
    "print(right)"
   ]
  },
  {
   "cell_type": "code",
   "execution_count": 31,
   "id": "6d4fc8f5",
   "metadata": {},
   "outputs": [
    {
     "name": "stdout",
     "output_type": "stream",
     "text": [
      "   ID  Name   Sub\n",
      "0   1   Sai  Sub1\n",
      "1   2  Bala  sub2\n",
      "2   3   Kar  sub3\n",
      "   ID   Name   Sub\n",
      "0   1  tyson  sub4\n",
      "1   2    max  sub5\n",
      "2   3  harry  sub6\n",
      "   ID Name_x Sub_x Name_y Sub_y\n",
      "0   1    Sai  Sub1  tyson  sub4\n",
      "1   2   Bala  sub2    max  sub5\n",
      "2   3    Kar  sub3  harry  sub6\n"
     ]
    }
   ],
   "source": [
    "left=pd.DataFrame({'ID':[1,2,3],'Name':['Sai','Bala','Kar'],'Sub':['Sub1','sub2','sub3']})\n",
    "right=pd.DataFrame({'ID':[1,2,3],'Name':['tyson','max','harry'],'Sub':['sub4','sub5','sub6']})\n",
    "print(left)\n",
    "print(right)\n",
    "print(pd.merge(left,right,on=\"ID\"))"
   ]
  },
  {
   "cell_type": "code",
   "execution_count": null,
   "id": "51363587",
   "metadata": {},
   "outputs": [],
   "source": []
  }
 ],
 "metadata": {
  "kernelspec": {
   "display_name": "Python 3 (ipykernel)",
   "language": "python",
   "name": "python3"
  },
  "language_info": {
   "codemirror_mode": {
    "name": "ipython",
    "version": 3
   },
   "file_extension": ".py",
   "mimetype": "text/x-python",
   "name": "python",
   "nbconvert_exporter": "python",
   "pygments_lexer": "ipython3",
   "version": "3.11.5"
  }
 },
 "nbformat": 4,
 "nbformat_minor": 5
}
