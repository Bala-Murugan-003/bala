{
 "cells": [
  {
   "cell_type": "code",
   "execution_count": 12,
   "id": "a4be7505-e438-467c-a407-bdc5a8fefb9f",
   "metadata": {},
   "outputs": [
    {
     "name": "stdout",
     "output_type": "stream",
     "text": [
      "        one       two     three\n",
      "a  0.252702 -1.846455  0.063672\n",
      "b       NaN       NaN       NaN\n",
      "c  0.788312 -0.744454  0.006052\n",
      "d  1.151935 -0.276061  1.206793\n",
      "e       NaN       NaN       NaN\n",
      "f  0.226465  1.555080 -1.389816\n"
     ]
    }
   ],
   "source": [
    "import pandas as pd\n",
    "import numpy as np\n",
    "df=pd.DataFrame(np.random.randn(4,3),index=['a','c','d','f'],columns=['one','two','three'])\n",
    "df=df.reindex(['a','b','c','d','e','f'])\n",
    "print(df)"
   ]
  },
  {
   "cell_type": "code",
   "execution_count": 14,
   "id": "c16597be-cf8f-48b6-8c2f-00ad0d17147c",
   "metadata": {},
   "outputs": [
    {
     "name": "stdout",
     "output_type": "stream",
     "text": [
      "        one       two     three\n",
      "a  0.252702 -1.846455  0.063672\n",
      "c  0.788312 -0.744454  0.006052\n",
      "d  1.151935 -0.276061  1.206793\n",
      "f  0.226465  1.555080 -1.389816\n",
      "\n"
     ]
    }
   ],
   "source": [
    "print(df.dropna())\n",
    "print()"
   ]
  },
  {
   "cell_type": "code",
   "execution_count": 22,
   "id": "f246f98d-5b31-420f-9810-22d9d5df5b8d",
   "metadata": {},
   "outputs": [
    {
     "name": "stdout",
     "output_type": "stream",
     "text": [
      "        one       two     three\n",
      "a  0.411241  0.535538 -0.670542\n",
      "c  1.440653  2.005462  0.372448\n",
      "d -0.662903 -1.056329 -1.472495\n",
      "f  1.743051  1.064255  0.942888\n",
      "        one       two     three\n",
      "a  0.411241  0.535538 -0.670542\n",
      "b       NaN       NaN       NaN\n",
      "c  1.440653  2.005462  0.372448\n",
      "        one       two     three\n",
      "a  0.411241  0.535538 -0.670542\n",
      "b  0.000000  0.000000  0.000000\n",
      "c  1.440653  2.005462  0.372448\n"
     ]
    }
   ],
   "source": [
    "#Nan filled with zeroes\n",
    "df=pd.DataFrame(np.random.randn(4,3),index=['a','c','d','f'],columns=['one','two','three'])\n",
    "print(df)\n",
    "df=df.reindex(['a','b','c'])\n",
    "print(df)\n",
    "print(df.fillna(0))"
   ]
  },
  {
   "cell_type": "code",
   "execution_count": 24,
   "id": "9cf9a696-5d9a-427c-99a7-c83a165c41f3",
   "metadata": {},
   "outputs": [
    {
     "name": "stdout",
     "output_type": "stream",
     "text": [
      "   one  two\n",
      "0   10   60\n",
      "1   20   70\n",
      "2   80   80\n",
      "3   40    0\n",
      "4   50   10\n",
      "   one  two\n",
      "0    5   60\n",
      "1   20   70\n",
      "2    3    3\n",
      "3   40    0\n",
      "4   50    5\n",
      "\n"
     ]
    }
   ],
   "source": [
    "df=pd.DataFrame({'one':[10,20,80,40,50],'two':[60,70,80,0,10]})\n",
    "print(df)\n",
    "print(df.replace({10:5,80:3}))\n",
    "print()"
   ]
  },
  {
   "cell_type": "code",
   "execution_count": 28,
   "id": "51d92a18-1342-49fe-bacf-f0b84f442079",
   "metadata": {},
   "outputs": [
    {
     "name": "stdout",
     "output_type": "stream",
     "text": [
      "Original DataFrame:\n",
      "         one       two     three\n",
      "a  1.267826  1.513818  1.357439\n",
      "b       NaN       NaN       NaN\n",
      "c  0.221778  1.368584 -0.690440\n",
      "d -0.432684 -1.825670  0.319446\n",
      "e       NaN       NaN       NaN\n",
      "f -1.544922 -0.450094  0.313993\n",
      "\n",
      " Nan_with True fill:\n",
      "\n",
      "a    False\n",
      "b     True\n",
      "c    False\n",
      "d    False\n",
      "e     True\n",
      "f    False\n",
      "Name: one, dtype: bool\n"
     ]
    }
   ],
   "source": [
    "df=pd.DataFrame(np.random.randn(4,3),index=['a','c','d','f'],columns=['one','two','three'])\n",
    "df=df.reindex(['a','b','c','d','e','f'])\n",
    "print(\"Original DataFrame:\\n\",df)\n",
    "print(\"\\n Nan_with True fill:\\n\")\n",
    "print(df['one'].isnull())"
   ]
  },
  {
   "cell_type": "code",
   "execution_count": 32,
   "id": "cf3f14f9-8188-46c9-a670-ec3587b6456b",
   "metadata": {},
   "outputs": [
    {
     "name": "stdout",
     "output_type": "stream",
     "text": [
      "Original DataFrame:\n",
      "         one       two     three\n",
      "a -0.755794  2.158834 -0.466700\n",
      "b       NaN       NaN       NaN\n",
      "c  0.306166  1.234722 -0.953290\n",
      "d  1.068182 -0.475798  0.883159\n",
      "e       NaN       NaN       NaN\n",
      "f -0.129668 -0.429340 -0.265114\n",
      "\n",
      " Nan_Filled with Forward values:\n",
      "\n",
      "        one       two     three\n",
      "a -0.755794  2.158834 -0.466700\n",
      "b  0.306166  1.234722 -0.953290\n",
      "c  0.306166  1.234722 -0.953290\n",
      "d  1.068182 -0.475798  0.883159\n",
      "e -0.129668 -0.429340 -0.265114\n",
      "f -0.129668 -0.429340 -0.265114\n"
     ]
    }
   ],
   "source": [
    "df=pd.DataFrame(np.random.randn(4,3),index=['a','c','d','f'],columns=['one','two','three'])\n",
    "df=df.reindex(['a','b','c','d','e','f'])\n",
    "print(\"Original DataFrame:\\n\",df)\n",
    "print(\"\\n Nan_Filled with Forward values:\\n\")\n",
    "print(df.fillna(method='bfill'))"
   ]
  },
  {
   "cell_type": "code",
   "execution_count": null,
   "id": "85d4221f-6198-4ec2-9fc5-695f349ceb47",
   "metadata": {},
   "outputs": [],
   "source": []
  }
 ],
 "metadata": {
  "kernelspec": {
   "display_name": "Python [conda env:anaconda3]",
   "language": "python",
   "name": "conda-env-anaconda3-py"
  },
  "language_info": {
   "codemirror_mode": {
    "name": "ipython",
    "version": 3
   },
   "file_extension": ".py",
   "mimetype": "text/x-python",
   "name": "python",
   "nbconvert_exporter": "python",
   "pygments_lexer": "ipython3",
   "version": "3.11.3"
  }
 },
 "nbformat": 4,
 "nbformat_minor": 5
}
